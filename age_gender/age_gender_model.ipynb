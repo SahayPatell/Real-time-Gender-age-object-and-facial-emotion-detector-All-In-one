{
 "cells": [
  {
   "cell_type": "code",
   "execution_count": null,
   "metadata": {
    "id": "8jXPyAFQ7In7"
   },
   "outputs": [],
   "source": [
    "import pandas as pd\n",
    "import numpy as np\n",
    "import os\n",
    "import matplotlib.pyplot as plt\n",
    "import cv2G\n",
    "from keras.models import Sequential,load_model,Model\n",
    "from keras.layers import Conv2D,MaxPool2D,Dense,Dropout,BatchNormalization,Flatten,Input\n",
    "from sklearn.model_selection import train_test_split"
   ]
  },
  {
   "cell_type": "code",
   "execution_count": null,
   "metadata": {},
   "outputs": [],
   "source": [
    "# image format is 200x200 age_gender_race_imagename.jpeg (22_1_123142424.jpeg)"
   ]
  },
  {
   "cell_type": "code",
   "execution_count": null,
   "metadata": {
    "id": "bfRxgc1O8pBY"
   },
   "outputs": [],
   "source": [
    "path = \"C:\\\\Users\\\\sahay\\\\OneDrive\\\\Desktop\\\\Final_Assignment\\\\age_gender\\\\UTKFace\"\n",
    "images = []\n",
    "age = []\n",
    "gender = []\n",
    "for img in os.listdir(path):\n",
    "  ages = img.split(\"_\")[0]\n",
    "  genders = img.split(\"_\")[1]\n",
    "  img = cv2.imread(str(path)+\"/\"+str(img))\n",
    "  img = cv2.cvtColor(img,cv2.COLOR_BGR2RGB)\n",
    "  images.append(np.array(img))\n",
    "  age.append(np.array(ages))\n",
    "  gender.append(np.array(genders))"
   ]
  },
  {
   "cell_type": "code",
   "execution_count": null,
   "metadata": {
    "id": "vYIOLsp1857W"
   },
   "outputs": [],
   "source": [
    "age = np.array(age,dtype=np.int64)\n",
    "images = np.array(images)   \n",
    "gender = np.array(gender,np.uint64)"
   ]
  },
  {
   "cell_type": "code",
   "execution_count": null,
   "metadata": {
    "id": "7z_cCrUO8-eK"
   },
   "outputs": [],
   "source": [
    "x_train_age, x_test_age, y_train_age, y_test_age = train_test_split(images, age,test_size=0.30, random_state=42)\n",
    "x_train_gender, x_test_gender, y_train_gender, y_test_gender = train_test_split(images, gender,test_size=0.30, random_state=42)"
   ]
  },
  {
   "cell_type": "code",
   "execution_count": null,
   "metadata": {
    "id": "_hIr0LVz9EWL"
   },
   "outputs": [],
   "source": [
    "# Age model\n",
    "age_model = Sequential()\n",
    "age_model.add(Conv2D(32, kernel_size=3,padding='same', activation='relu', input_shape=(200,200,3)))\n",
    "age_model.add(MaxPool2D(pool_size=3))\n",
    "\n",
    "age_model.add(Conv2D(64, kernel_size=3,padding='same', activation='relu'))\n",
    "age_model.add(MaxPool2D(pool_size=3))\n",
    "\n",
    "age_model.add(Conv2D(128, kernel_size=3, padding='same',activation='relu'))\n",
    "age_model.add(MaxPool2D(pool_size=3))\n",
    "\n",
    "age_model.add(Conv2D(256, kernel_size=3, padding='same',activation='relu'))\n",
    "age_model.add(MaxPool2D(pool_size=3))\n",
    "\n",
    "age_model.add(Flatten())\n",
    "\n",
    "age_model.add(Dropout(0.50))\n",
    "age_model.add(Dense(128, activation='relu'))\n",
    "\n",
    "age_model.add(Dense(1, activation='linear', name='age'))"
   ]
  },
  {
   "cell_type": "code",
   "execution_count": null,
   "metadata": {
    "colab": {
     "base_uri": "https://localhost:8080/"
    },
    "id": "ddog_FeW9gFX",
    "outputId": "132fbb5b-cc5a-4570-9548-9fa87f4561c2"
   },
   "outputs": [],
   "source": [
    "age_model.compile(optimizer='adam', loss='mse', metrics=['mae'])\n",
    "print(age_model.summary())    "
   ]
  },
  {
   "cell_type": "code",
   "execution_count": null,
   "metadata": {
    "colab": {
     "base_uri": "https://localhost:8080/",
     "height": 470
    },
    "id": "sdBEoCsQ9aW1",
    "outputId": "c1ff8c6a-fa7d-4c15-ba8e-f952580d4727",
    "scrolled": false
   },
   "outputs": [],
   "source": [
    "history_age = age_model.fit(x_train_age, y_train_age,validation_data=(x_test_age, y_test_age), epochs=60)"
   ]
  },
  {
   "cell_type": "code",
   "execution_count": null,
   "metadata": {
    "id": "AARnfryX9Uk7"
   },
   "outputs": [],
   "source": [
    "age_model.save('age_model.h5')"
   ]
  },
  {
   "cell_type": "code",
   "execution_count": null,
   "metadata": {
    "id": "MPe7D7VV9kds"
   },
   "outputs": [],
   "source": [
    "#gender model\n",
    "gender_model = Sequential()\n",
    "\n",
    "gender_model.add(Conv2D(36, kernel_size=3, activation='relu', input_shape=(200,200,3)))\n",
    "gender_model.add(MaxPool2D(pool_size=3))\n",
    "\n",
    "gender_model.add(Conv2D(64, kernel_size=3, activation='relu'))\n",
    "gender_model.add(MaxPool2D(pool_size=3))\n",
    "\n",
    "gender_model.add(Conv2D(128, kernel_size=3, activation='relu'))\n",
    "gender_model.add(MaxPool2D(pool_size=3))\n",
    "\n",
    "gender_model.add(Conv2D(256, kernel_size=3, activation='relu'))\n",
    "gender_model.add(MaxPool2D(pool_size=3))\n",
    "\n",
    "gender_model.add(Flatten())\n",
    "\n",
    "gender_model.add(Dropout(0.2))\n",
    "gender_model.add(Dense(512, activation='relu'))\n",
    "\n",
    "gender_model.add(Dense(1, activation='sigmoid', name='gender'))"
   ]
  },
  {
   "cell_type": "code",
   "execution_count": null,
   "metadata": {
    "id": "7PWIuLWC9rc7"
   },
   "outputs": [],
   "source": [
    "gender_model.compile(optimizer='adam', loss='binary_crossentropy', metrics=['accuracy'])"
   ]
  },
  {
   "cell_type": "code",
   "execution_count": null,
   "metadata": {
    "id": "x0LDew9_9uND",
    "scrolled": false
   },
   "outputs": [],
   "source": [
    "history_gender = gender_model.fit(x_train_gender, y_train_gender,validation_data=(x_test_gender, y_test_gender), epochs=50)"
   ]
  },
  {
   "cell_type": "code",
   "execution_count": null,
   "metadata": {
    "id": "egTEjmsX9yNo"
   },
   "outputs": [],
   "source": [
    "gender_model.save('gender_model.h5')"
   ]
  },
  {
   "cell_type": "code",
   "execution_count": null,
   "metadata": {
    "id": "X9Bn7ZBd-VXz"
   },
   "outputs": [],
   "source": [
    "history = history_gender"
   ]
  },
  {
   "cell_type": "code",
   "execution_count": null,
   "metadata": {
    "id": "QBIml_Im-Yfy"
   },
   "outputs": [],
   "source": [
    "#plot the training and validation accuracy and loss at each epoch\n",
    "loss = history.history['loss']\n",
    "val_loss = history.history['val_loss']\n",
    "epochs = range(1, len(loss) + 1)\n",
    "plt.plot(epochs, loss, 'y', label='Training loss')\n",
    "plt.plot(epochs, val_loss, 'r', label='Validation loss')\n",
    "plt.title('Training and validation loss')\n",
    "plt.xlabel('Epochs')\n",
    "plt.ylabel('Loss')\n",
    "plt.legend()\n",
    "plt.show()"
   ]
  },
  {
   "cell_type": "code",
   "execution_count": null,
   "metadata": {
    "id": "9rbC_h3v-bV_"
   },
   "outputs": [],
   "source": [
    "acc = history.history['accuracy']\n",
    "val_acc = history.history['val_accuracy']"
   ]
  },
  {
   "cell_type": "code",
   "execution_count": null,
   "metadata": {
    "id": "jMfDFS21-fAM"
   },
   "outputs": [],
   "source": [
    "plt.plot(epochs, acc, 'y', label='Training acc')\n",
    "plt.plot(epochs, val_acc, 'r', label='Validation acc')\n",
    "plt.title('Training and validation accuracy')\n",
    "plt.xlabel('Epochs')\n",
    "plt.ylabel('Accuracy')\n",
    "plt.legend()\n",
    "plt.show()"
   ]
  },
  {
   "cell_type": "code",
   "execution_count": 38,
   "metadata": {
    "id": "Y7YzG73a-j5t"
   },
   "outputs": [],
   "source": [
    "from keras.models import load_model"
   ]
  },
  {
   "cell_type": "code",
   "execution_count": 39,
   "metadata": {
    "id": "KqcyxQLv-mAN"
   },
   "outputs": [],
   "source": [
    "my_model = load_model('age_model.h5', compile=False)"
   ]
  },
  {
   "cell_type": "code",
   "execution_count": 40,
   "metadata": {
    "id": "5SdRVOxw-pjV"
   },
   "outputs": [],
   "source": [
    "predictions = my_model.predict(x_test_age)\n",
    "y_pred = (predictions>= 0.5).astype(int)[:,0]"
   ]
  },
  {
   "cell_type": "code",
   "execution_count": 41,
   "metadata": {
    "id": "AhuA90O3-viI"
   },
   "outputs": [
    {
     "name": "stdout",
     "output_type": "stream",
     "text": [
      "Accuracy =  0.03163222269084774\n"
     ]
    }
   ],
   "source": [
    "from sklearn import metrics\n",
    "print (\"Accuracy = \", metrics.accuracy_score(y_test_age, y_pred))"
   ]
  },
  {
   "cell_type": "code",
   "execution_count": null,
   "metadata": {
    "id": "mCQZNcfe-xVy"
   },
   "outputs": [],
   "source": [
    "#Confusion Matrix - verify accuracy of each class\n",
    "from sklearn.metrics import confusion_matrix\n",
    "import seaborn as sns\n",
    "cm=confusion_matrix(y_test_gender, y_pred)  \n",
    "sns.heatmap(cm, annot=True)"
   ]
  }
 ],
 "metadata": {
  "accelerator": "TPU",
  "colab": {
   "collapsed_sections": [],
   "name": "age_gender_model.ipynb",
   "provenance": []
  },
  "kernelspec": {
   "display_name": "Python 3",
   "language": "python",
   "name": "python3"
  },
  "language_info": {
   "codemirror_mode": {
    "name": "ipython",
    "version": 3
   },
   "file_extension": ".py",
   "mimetype": "text/x-python",
   "name": "python",
   "nbconvert_exporter": "python",
   "pygments_lexer": "ipython3",
   "version": "3.8.8"
  }
 },
 "nbformat": 4,
 "nbformat_minor": 1
}
